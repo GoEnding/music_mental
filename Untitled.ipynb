{
 "cells": [
  {
   "cell_type": "code",
   "execution_count": 11,
   "id": "28334863-97bf-4757-9cf9-75d909ab1c66",
   "metadata": {},
   "outputs": [],
   "source": [
    "import pandas as pd"
   ]
  },
  {
   "cell_type": "code",
   "execution_count": 12,
   "id": "53a5c2b0-abac-4bd8-9885-47e201db8a27",
   "metadata": {},
   "outputs": [],
   "source": [
    "df = pd.read_csv('./data/ramen-ratings.csv')"
   ]
  },
  {
   "cell_type": "code",
   "execution_count": 14,
   "id": "8d3707de-613f-4aae-8043-c1503a9ec79c",
   "metadata": {},
   "outputs": [
    {
     "data": {
      "text/plain": [
       "2535         \\n\n",
       "2248         \\n\n",
       "1846         \\n\n",
       "1670         \\n\n",
       "2475    2012 #1\n",
       "         ...   \n",
       "2575        NaN\n",
       "2576        NaN\n",
       "2577        NaN\n",
       "2578        NaN\n",
       "2579        NaN\n",
       "Name: Top Ten, Length: 2580, dtype: object"
      ]
     },
     "execution_count": 14,
     "metadata": {},
     "output_type": "execute_result"
    }
   ],
   "source": [
    "df['Top Ten'].sort_values()"
   ]
  },
  {
   "cell_type": "code",
   "execution_count": 15,
   "id": "a1e68c15-50dc-41cb-b372-6374ec4bdb65",
   "metadata": {},
   "outputs": [
    {
     "data": {
      "text/plain": [
       "0        Cup\n",
       "1       Pack\n",
       "2        Cup\n",
       "3       Pack\n",
       "4       Pack\n",
       "        ... \n",
       "2575    Bowl\n",
       "2576    Pack\n",
       "2577    Pack\n",
       "2578    Pack\n",
       "2579    Pack\n",
       "Name: Style, Length: 2578, dtype: object"
      ]
     },
     "execution_count": 15,
     "metadata": {},
     "output_type": "execute_result"
    }
   ],
   "source": []
  },
  {
   "cell_type": "code",
   "execution_count": 9,
   "id": "a0849f36-ad1e-4c4e-af74-56e85daf8fb0",
   "metadata": {},
   "outputs": [],
   "source": []
  },
  {
   "cell_type": "code",
   "execution_count": 26,
   "id": "a92ec65c-313e-45ce-9d4c-ef9b8b9fc10f",
   "metadata": {},
   "outputs": [
    {
     "data": {
      "text/html": [
       "<div>\n",
       "<style scoped>\n",
       "    .dataframe tbody tr th:only-of-type {\n",
       "        vertical-align: middle;\n",
       "    }\n",
       "\n",
       "    .dataframe tbody tr th {\n",
       "        vertical-align: top;\n",
       "    }\n",
       "\n",
       "    .dataframe thead th {\n",
       "        text-align: right;\n",
       "    }\n",
       "</style>\n",
       "<table border=\"1\" class=\"dataframe\">\n",
       "  <thead>\n",
       "    <tr style=\"text-align: right;\">\n",
       "      <th></th>\n",
       "      <th>Review #</th>\n",
       "      <th>Brand</th>\n",
       "      <th>Variety</th>\n",
       "      <th>Style</th>\n",
       "      <th>Country</th>\n",
       "      <th>Stars</th>\n",
       "      <th>Top Ten</th>\n",
       "    </tr>\n",
       "  </thead>\n",
       "  <tbody>\n",
       "    <tr>\n",
       "      <th>2152</th>\n",
       "      <td>428</td>\n",
       "      <td>Kamfen</td>\n",
       "      <td>E Menm Chicken</td>\n",
       "      <td>NaN</td>\n",
       "      <td>China</td>\n",
       "      <td>3.75</td>\n",
       "      <td>NaN</td>\n",
       "    </tr>\n",
       "    <tr>\n",
       "      <th>2442</th>\n",
       "      <td>138</td>\n",
       "      <td>Unif</td>\n",
       "      <td>100 Furong Shrimp</td>\n",
       "      <td>NaN</td>\n",
       "      <td>Taiwan</td>\n",
       "      <td>3</td>\n",
       "      <td>NaN</td>\n",
       "    </tr>\n",
       "  </tbody>\n",
       "</table>\n",
       "</div>"
      ],
      "text/plain": [
       "      Review #   Brand            Variety Style Country Stars Top Ten\n",
       "2152       428  Kamfen     E Menm Chicken   NaN   China  3.75     NaN\n",
       "2442       138    Unif  100 Furong Shrimp   NaN  Taiwan     3     NaN"
      ]
     },
     "execution_count": 26,
     "metadata": {},
     "output_type": "execute_result"
    }
   ],
   "source": [
    "df['Style']"
   ]
  },
  {
   "cell_type": "code",
   "execution_count": null,
   "id": "4887e924-a93a-40d5-a4b9-da96bce17fb9",
   "metadata": {},
   "outputs": [],
   "source": []
  },
  {
   "cell_type": "code",
   "execution_count": null,
   "id": "cc4f353f-2598-4bb2-86c3-dc25ea0884b4",
   "metadata": {},
   "outputs": [],
   "source": []
  },
  {
   "cell_type": "code",
   "execution_count": null,
   "id": "d51f610c-bf27-4fa7-aab3-31e768e0d450",
   "metadata": {},
   "outputs": [],
   "source": []
  }
 ],
 "metadata": {
  "kernelspec": {
   "display_name": "Python 3 (ipykernel)",
   "language": "python",
   "name": "python3"
  },
  "language_info": {
   "codemirror_mode": {
    "name": "ipython",
    "version": 3
   },
   "file_extension": ".py",
   "mimetype": "text/x-python",
   "name": "python",
   "nbconvert_exporter": "python",
   "pygments_lexer": "ipython3",
   "version": "3.11.7"
  }
 },
 "nbformat": 4,
 "nbformat_minor": 5
}
